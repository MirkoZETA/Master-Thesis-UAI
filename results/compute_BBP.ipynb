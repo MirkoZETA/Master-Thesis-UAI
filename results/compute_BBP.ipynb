{
 "cells": [
  {
   "cell_type": "markdown",
   "metadata": {},
   "source": [
    "### Este código procesa los resultados de las cuatro iteraciones de BP y sus correspondientes valores de BBP. Para cada conjunto, calcula el promedio y el error estándar, que son necesarios para determinar los intervalos de confianza con un nivel de confianza predefinido."
   ]
  },
  {
   "cell_type": "markdown",
   "metadata": {},
   "source": [
    "#### Funciones"
   ]
  },
  {
   "cell_type": "code",
   "execution_count": 24,
   "metadata": {},
   "outputs": [],
   "source": [
    "# Read files\n",
    "import os\n",
    "import sys\n",
    "\n",
    "# This function returns each line of a file as a list\n",
    "def read_file(file_name):\n",
    "    with open(file_name, 'r') as file:\n",
    "        return file.readlines()\n",
    "\n",
    "# Extract the value after \"//\" in a line\n",
    "def extract_value(line):\n",
    "    stripped = line.split('\\\\\\\\')  # Corrected to split by '//'\n",
    "    if len(stripped) > 1:\n",
    "        return stripped[1].strip()\n",
    "    else:\n",
    "        print(line)\n",
    "        return None\n",
    "\n",
    "# Save values in list of lists\n",
    "def get_values(file_name):\n",
    "    values = []\n",
    "    # Map of values\n",
    "    map_values = {}\n",
    "    counter = 0\n",
    "    for line in read_file(file_name):\n",
    "        if \"BBP RESULTS\" in line:  # Detener el procesamiento al encontrar \"BBP RESULTS\"\n",
    "            break\n",
    "        if line.strip():  # Saltar líneas vacías\n",
    "            if line[:4] not in map_values:\n",
    "                map_values[line[:4]] = counter\n",
    "                values.append([])\n",
    "                counter += 1\n",
    "            add_value = extract_value(line)\n",
    "            if add_value is not None:\n",
    "                try:\n",
    "                    values[map_values[line[:4]]].append(float(add_value))\n",
    "                except:\n",
    "                    print(\"Error in line: \", line)\n",
    "    return values, list(map_values.keys())\n"
   ]
  },
  {
   "cell_type": "code",
   "execution_count": 25,
   "metadata": {},
   "outputs": [],
   "source": [
    "import numpy as np\n",
    "from scipy.stats import t\n",
    "\n",
    "def calculate_statistics(data, confidence_level=0.95):\n",
    "    \"\"\"\n",
    "    Calcula la desviación estándar, la media, el error estándar y los intervalos de confianza\n",
    "    de una lista de datos.\n",
    "    \n",
    "    Parámetros:\n",
    "    - data (list): Una lista de números.\n",
    "    - confidence_level (float): El nivel de confianza deseado (por defecto, 0.95).\n",
    "    \n",
    "    Retorna:\n",
    "    - dict: Un diccionario con los siguientes valores:\n",
    "        - 'mean': La media de los datos.\n",
    "        - 'std_dev': La desviación estándar de los datos.\n",
    "        - 'std_error': El error estándar de la media.\n",
    "        - 'confidence_interval': Una tupla con los límites inferior y superior del intervalo de confianza.\n",
    "    \"\"\"\n",
    "    n = len(data)\n",
    "    \n",
    "    # Verificar si todos los valores son cero\n",
    "    if all(x == 0 for x in data):\n",
    "        return {\n",
    "            \"mean\": 0,\n",
    "            \"std_dev\": 0,\n",
    "            \"std_error\": 0,\n",
    "            \"margin_of_error\": 0\n",
    "        }\n",
    "    \n",
    "    # Cálculos estadísticos\n",
    "    mean = np.mean(data)\n",
    "    std_dev = np.std(data, ddof=1) if n > 1 else 0  # Desviación estándar muestral\n",
    "    std_error = std_dev / np.sqrt(n) if n > 1 else 0\n",
    "    \n",
    "    # Calcular el intervalo de confianza\n",
    "    if n > 1:\n",
    "        t_critical = t.ppf((1 + confidence_level) / 2, df=n - 1)\n",
    "        margin_of_error = t_critical * std_error\n",
    "    else:\n",
    "        # Si solo hay un valor, el intervalo de confianza no tiene sentido\n",
    "        margin_of_error = 0\n",
    "    \n",
    "    return {\n",
    "        \"mean\": mean,\n",
    "        \"std_dev\": std_dev,\n",
    "        \"std_error\": std_error,\n",
    "        \"margin_of_error\": margin_of_error\n",
    "    }"
   ]
  },
  {
   "cell_type": "markdown",
   "metadata": {},
   "source": [
    "#### Ejecución"
   ]
  },
  {
   "cell_type": "code",
   "execution_count": 26,
   "metadata": {},
   "outputs": [],
   "source": [
    "# Lista de los archivos en el directorio actual\n",
    "files = os.listdir()\n",
    "files.sort()"
   ]
  },
  {
   "cell_type": "code",
   "execution_count": 27,
   "metadata": {},
   "outputs": [
    {
     "name": "stdout",
     "output_type": "stream",
     "text": [
      "EuroCore_CLE_BestFit.csv\n",
      "EuroCore_CLE_FirstFit.csv\n",
      "EuroCore_CLS_BestFit.csv\n",
      "EuroCore_CLS_FirstFit.csv\n",
      "EuroCore_CL_125_BestFit.csv\n",
      "EuroCore_CL_125_FirstFit.csv\n",
      "EuroCore_CL_50_BestFit.csv\n",
      "EuroCore_CL_50_FirstFit.csv\n",
      "EuroCore_CL_625_BestFit.csv\n",
      "EuroCore_CL_625_FirstFit.csv\n",
      "NSFNet_CLE_BestFit.csv\n",
      "NSFNet_CLE_FirstFit.csv\n",
      "NSFNet_CLS_BestFit.csv\n",
      "NSFNet_CLS_FirstFit.csv\n",
      "NSFNet_CL_125_BestFit.csv\n",
      "NSFNet_CL_125_FirstFit.csv\n",
      "NSFNet_CL_50_BestFit.csv\n",
      "NSFNet_CL_50_FirstFit.csv\n",
      "NSFNet_CL_625_BestFit.csv\n",
      "NSFNet_CL_625_FirstFit.csv\n",
      "UKNet_CLE_BestFit.csv\n",
      "UKNet_CLE_FirstFit.csv\n",
      "UKNet_CLS_BestFit.csv\n",
      "UKNet_CLS_FirstFit.csv\n",
      "UKNet_CL_125_BestFit.csv\n",
      "UKNet_CL_125_FirstFit.csv\n",
      "UKNet_CL_50_BestFit.csv\n",
      "UKNet_CL_50_FirstFit.csv\n",
      "UKNet_CL_625_BestFit.csv\n",
      "UKNet_CL_625_FirstFit.csv\n",
      "compute_BBP.ipynb\n",
      "results_INCREMENTAL.csv\n"
     ]
    }
   ],
   "source": [
    "# Iterar sobre los archivos y calcular las estadísticas (excepto en el archivo actual y en los resultados de incremental)\n",
    "for i,file in enumerate(files):\n",
    "    print(file)\n",
    "    if file == 'compute_BBP.ipynb' or file == 'results_INCREMENTAL.csv':\n",
    "        continue\n",
    "    values, map_values = get_values(file)\n",
    "    bands = file.split('_')\n",
    "    with open(file, 'a') as filee:\n",
    "        filee.write(\"BBP RESULTS\\n\")\n",
    "        for j, value in enumerate(values):\n",
    "            statistics = calculate_statistics(value)\n",
    "            filee.write(f\"{map_values[j]}\\t{statistics['mean']}\\t{float(statistics['margin_of_error'])}\\t{float(statistics['margin_of_error'])}\\\\\\\\\\n\")"
   ]
  }
 ],
 "metadata": {
  "kernelspec": {
   "display_name": ".venv",
   "language": "python",
   "name": "python3"
  },
  "language_info": {
   "codemirror_mode": {
    "name": "ipython",
    "version": 3
   },
   "file_extension": ".py",
   "mimetype": "text/x-python",
   "name": "python",
   "nbconvert_exporter": "python",
   "pygments_lexer": "ipython3",
   "version": "3.10.12"
  }
 },
 "nbformat": 4,
 "nbformat_minor": 2
}
